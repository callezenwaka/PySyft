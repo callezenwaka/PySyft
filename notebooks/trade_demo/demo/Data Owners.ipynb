{
 "cells": [
  {
   "cell_type": "markdown",
   "metadata": {},
   "source": [
    "# SMPC Trade Demo\n",
    "\n",
    "In this demo, we're going to show how to answer questions using trade data at multiple locations without needing to co-locate it."
   ]
  },
  {
   "cell_type": "markdown",
   "metadata": {},
   "source": [
    "# Step 0: Setup\n",
    "\n",
    "First we need to setup a handful of nodes for SMPC. Assuming you have everything installed, run the following commands (in separate terminals):\n",
    "\n",
    "```\n",
    "hagrid launch nl on localhost:8081\n",
    "hagrid launch usa on localhost:8082\n",
    "hagrid launch italy on localhost:8083\n",
    "```"
   ]
  },
  {
   "cell_type": "markdown",
   "metadata": {},
   "source": [
    "# Step 1: Login and Load Data into Each Node\n",
    "\n",
    "Using the same techniques from previous lessons, load data into each of the nodes."
   ]
  },
  {
   "cell_type": "code",
   "execution_count": 5,
   "metadata": {},
   "outputs": [
    {
     "name": "stdout",
     "output_type": "stream",
     "text": [
      "Connecting to http://localhost:8081... done! \t Logging into nl... done!\n",
      "Connecting to http://localhost:8082... done! \t Logging into usa... done!\n",
      "Connecting to http://localhost:8083... done! \t Logging into it... done!\n"
     ]
    }
   ],
   "source": [
    "nl = sy.login(email=\"info@openmined.org\", password=\"changethis\", port=8081)\n",
    "usa = sy.login(email=\"info@openmined.org\", password=\"changethis\", port=8082)\n",
    "it = sy.login(email=\"info@openmined.org\", password=\"changethis\", port=8083)"
   ]
  },
  {
   "cell_type": "code",
   "execution_count": 6,
   "metadata": {},
   "outputs": [],
   "source": [
    "import pandas as pd"
   ]
  },
  {
   "cell_type": "code",
   "execution_count": 7,
   "metadata": {},
   "outputs": [],
   "source": [
    "nl_data = pd.read_csv(\"../datasets/nl - feb 2021.csv\")[[\"Trade Value (US$)\"]][0:1000].values # Shape of the dataset: (1000, 1)\n",
    "nl.load_dataset(\n",
    "    assets={\"feb2020\": sy.Tensor(nl_data)},\n",
    "    name=\"Netherlands Trade Data - First 1000 rows\",\n",
    "    description=\"\"\"Summary statistics from Netherland's CBS statistics \n",
    "                    bureau measuring how much CBS believes it imports and exports \n",
    "                    from other countries.\"\"\",\n",
    ")\n",
    "\n",
    "\n",
    "usa_data = pd.read_csv(\"../datasets/us - feb 2021.csv\")[[\"Trade Value (US$)\"]][0:1000].values # Shape of the dataset: (1000, 1)\n",
    "usa.load_dataset(\n",
    "    assets={\"feb2020\": sy.Tensor(usa_data)},\n",
    "    name=\"USA Trade Data - First 1000 rows\",\n",
    "    description=\"\"\"Summary statistics from USA statistics \n",
    "                    bureau measuring how much the USA believes it imports and exports \n",
    "                    from other countries.\"\"\",\n",
    ")\n",
    "\n",
    "it_data = pd.read_csv(\"../datasets/it - feb 2021.csv\")[[\"Trade Value (US$)\"]][0:1000].values # Shape of the dataset: (1000, 1)\n",
    "it.load_dataset(\n",
    "    assets={\"feb2020\": sy.Tensor(it_data)},\n",
    "    name=\"Italy Trade Data - First 1000 rows\",\n",
    "    description=\"\"\"Summary statistics from Italy's iStat statistics \n",
    "                    bureau measuring how much the Italy believes it imports and exports \n",
    "                    from other countries.\"\"\",\n",
    ")"
   ]
  },
  {
   "cell_type": "markdown",
   "metadata": {},
   "source": [
    "# Step 2: Create Data Scientist Users\n",
    "\n",
    "Log into the UI of each node and add a user with the following details:\n",
    "\n",
    "- Name: Sheldon Cooper\n",
    "- Email: sheldon@caltech.edu\n",
    "- Password: bazinga"
   ]
  },
  {
   "cell_type": "markdown",
   "metadata": {},
   "source": [
    "# Step 3: (see Data Scientist Notebook)"
   ]
  },
  {
   "cell_type": "markdown",
   "metadata": {},
   "source": [
    "# Step 4: View and Accept Requests"
   ]
  },
  {
   "cell_type": "code",
   "execution_count": null,
   "metadata": {},
   "outputs": [],
   "source": [
    "nl.requests"
   ]
  },
  {
   "cell_type": "code",
   "execution_count": null,
   "metadata": {},
   "outputs": [],
   "source": [
    "usa.requests"
   ]
  },
  {
   "cell_type": "code",
   "execution_count": null,
   "metadata": {},
   "outputs": [],
   "source": [
    "it.requests"
   ]
  },
  {
   "cell_type": "code",
   "execution_count": 6,
   "metadata": {},
   "outputs": [],
   "source": [
    "nl.requests[-1].accept()\n",
    "usa.requests[-1].accept()\n",
    "it.requests[-1].accept()"
   ]
  }
 ],
 "metadata": {
  "kernelspec": {
   "display_name": "Python 3",
   "language": "python",
   "name": "python3"
  },
  "language_info": {
   "codemirror_mode": {
    "name": "ipython",
    "version": 3
   },
   "file_extension": ".py",
   "mimetype": "text/x-python",
   "name": "python",
   "nbconvert_exporter": "python",
   "pygments_lexer": "ipython3",
   "version": "3.7.9"
  }
 },
 "nbformat": 4,
 "nbformat_minor": 4
}
